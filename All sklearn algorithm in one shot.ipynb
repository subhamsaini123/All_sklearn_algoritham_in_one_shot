{
 "cells": [
  {
   "cell_type": "code",
   "execution_count": null,
   "id": "63a48d09",
   "metadata": {},
   "outputs": [],
   "source": [
    "import numpy as np\n",
    "import pandas as pd\n",
    "import matplotlib.pyplot as plt \n",
    "import seaborn as sns"
   ]
  },
  {
   "cell_type": "markdown",
   "id": "fcf6f466",
   "metadata": {},
   "source": [
    "# model train"
   ]
  },
  {
   "cell_type": "code",
   "execution_count": null,
   "id": "c522b633",
   "metadata": {},
   "outputs": [],
   "source": [
    "from sklearn.model_selection import train_test_split\n",
    "x_train,x_test,y_train,y_test=train_test_split(x,y,test_size=0.2,random_state=42)"
   ]
  },
  {
   "cell_type": "markdown",
   "id": "6735826d",
   "metadata": {},
   "source": [
    "# 1==>StandardScaler"
   ]
  },
  {
   "cell_type": "code",
   "execution_count": null,
   "id": "9b14be21",
   "metadata": {},
   "outputs": [],
   "source": [
    "from sklearn.preprocessing import StandardScaler\n",
    "sc=StandardScaler()"
   ]
  },
  {
   "cell_type": "markdown",
   "id": "a60d3fb2",
   "metadata": {},
   "source": [
    "# 2==>MinMaxScaler"
   ]
  },
  {
   "cell_type": "code",
   "execution_count": null,
   "id": "24c7c1e2",
   "metadata": {},
   "outputs": [],
   "source": [
    "from sklearn.preprocessing import MinMaxScaler\n",
    "mms=MinMaxScaler()"
   ]
  },
  {
   "cell_type": "markdown",
   "id": "3e7f2051",
   "metadata": {},
   "source": [
    "# 3==>LabelEncoder"
   ]
  },
  {
   "cell_type": "code",
   "execution_count": null,
   "id": "13083b46",
   "metadata": {},
   "outputs": [],
   "source": [
    "from sklearn.preprocessing import LabelEncoder\n",
    "le=LabelEncoder()"
   ]
  },
  {
   "cell_type": "markdown",
   "id": "d5e73be0",
   "metadata": {},
   "source": [
    "# 4==>OrdinalEncoder"
   ]
  },
  {
   "cell_type": "code",
   "execution_count": null,
   "id": "2e6a1a2c",
   "metadata": {},
   "outputs": [],
   "source": [
    "from sklearn.preprocessing import OrdinalEncoder\n",
    "oe=OrdinalEncoder(categories=[[\"Poor\",\"Average\",\"Good\"],[\"School\",\"UG\",\"PG\"]])"
   ]
  },
  {
   "cell_type": "markdown",
   "id": "13220775",
   "metadata": {},
   "source": [
    "# 5==>OneHotEncoder"
   ]
  },
  {
   "cell_type": "code",
   "execution_count": null,
   "id": "ac0fb656",
   "metadata": {},
   "outputs": [],
   "source": [
    "from sklearn.preprocessing import OneHotEncoder\n",
    "ohe=OneHotEncoder(sparse=False,drop=\"first\")"
   ]
  },
  {
   "cell_type": "markdown",
   "id": "f836cbe3",
   "metadata": {},
   "source": [
    "# 6==>SimpleImputer"
   ]
  },
  {
   "cell_type": "code",
   "execution_count": null,
   "id": "c27dc5ad",
   "metadata": {},
   "outputs": [],
   "source": [
    "from sklearn.impute import SimpleImputer\n",
    "si=SimpleImputer()"
   ]
  },
  {
   "cell_type": "markdown",
   "id": "d38d9068",
   "metadata": {},
   "source": [
    "# 7==>ColumnTransformer"
   ]
  },
  {
   "cell_type": "code",
   "execution_count": null,
   "id": "4c829c9d",
   "metadata": {},
   "outputs": [],
   "source": [
    "from sklearn.compose import ColumnTransformer\n",
    "transformer=ColumnTransformer(transformers=[\n",
    "    (\"tnf1\",SimpleImputer(),[\"fever\"]),\n",
    "    (\"tnf2\",OrdinalEncoder(categories=[[\"Mild\",\"Strong\"]]),[\"cough\"]),\n",
    "    (\"tnf3\",OneHotEncoder(sparse=False,drop=\"first\"),[\"gender\",\"city\"])\n",
    "    \n",
    "] ,remainder=\"passthrough\")"
   ]
  },
  {
   "cell_type": "markdown",
   "id": "92d609c8",
   "metadata": {},
   "source": [
    "# 8==>FunctionTransformer"
   ]
  },
  {
   "cell_type": "code",
   "execution_count": null,
   "id": "1b44f6e5",
   "metadata": {},
   "outputs": [],
   "source": [
    "from sklearn.preprocessing import FunctionTransformer"
   ]
  },
  {
   "cell_type": "markdown",
   "id": "043d4534",
   "metadata": {},
   "source": [
    "# 9==>PowerTransformer"
   ]
  },
  {
   "cell_type": "code",
   "execution_count": null,
   "id": "217de40d",
   "metadata": {},
   "outputs": [],
   "source": [
    "from sklearn.preprocessing import PowerTransformer\n",
    "pt=PowerTransformer(method=\"yeo-johnson\")\n",
    "pt=PowerTransformer(method=\"box-cox\")"
   ]
  },
  {
   "cell_type": "markdown",
   "id": "b72aec0c",
   "metadata": {},
   "source": [
    "# 10==>bining"
   ]
  },
  {
   "cell_type": "code",
   "execution_count": null,
   "id": "66910f55",
   "metadata": {},
   "outputs": [],
   "source": [
    "from sklearn.preprocessing import KBinsDiscretizer \n"
   ]
  },
  {
   "cell_type": "markdown",
   "id": "43eb33cf",
   "metadata": {},
   "source": [
    "# 11==>LinearRegression"
   ]
  },
  {
   "cell_type": "code",
   "execution_count": null,
   "id": "c8220199",
   "metadata": {},
   "outputs": [],
   "source": [
    "from sklearn.linear_model import LinearRegression\n",
    "lr=LinearRegression()"
   ]
  },
  {
   "cell_type": "markdown",
   "id": "7087a844",
   "metadata": {},
   "source": [
    "# 12==>LogisticRegression"
   ]
  },
  {
   "cell_type": "code",
   "execution_count": null,
   "id": "477c3784",
   "metadata": {},
   "outputs": [],
   "source": [
    "from sklearn.linear_model import LogisticRegression\n",
    "lr=LogisticRegression()"
   ]
  },
  {
   "cell_type": "markdown",
   "id": "aad5aaec",
   "metadata": {},
   "source": [
    "# 13==>PolynomialRegression"
   ]
  },
  {
   "cell_type": "code",
   "execution_count": null,
   "id": "0b6a683f",
   "metadata": {},
   "outputs": [],
   "source": [
    "from sklearn.preprocessing import PolynomialFeatures\n",
    "pf=PolynomialFeatures(degree=2)"
   ]
  },
  {
   "cell_type": "markdown",
   "id": "4beefb2b",
   "metadata": {},
   "source": [
    "# 14==>Ridge"
   ]
  },
  {
   "cell_type": "code",
   "execution_count": null,
   "id": "4375d9ed",
   "metadata": {},
   "outputs": [],
   "source": [
    "from sklearn.linear_model import Ridge\n",
    "ridge=Ridge(alpha=1)"
   ]
  },
  {
   "cell_type": "markdown",
   "id": "bc71bf7d",
   "metadata": {},
   "source": [
    "# 15==>Lasso"
   ]
  },
  {
   "cell_type": "code",
   "execution_count": null,
   "id": "a65d1616",
   "metadata": {},
   "outputs": [],
   "source": [
    "from sklearn.linear_model import Lasso\n",
    "ridge=Lasso(alpha=1)"
   ]
  },
  {
   "cell_type": "markdown",
   "id": "9472e3e9",
   "metadata": {},
   "source": [
    "# 16==>DecisionTreeClassifier"
   ]
  },
  {
   "cell_type": "code",
   "execution_count": null,
   "id": "21f01198",
   "metadata": {},
   "outputs": [],
   "source": [
    "from sklearn.tree import DecisionTreeClassifier\n",
    "dtc=DecisionTreeClassifier()"
   ]
  },
  {
   "cell_type": "markdown",
   "id": "dad62c75",
   "metadata": {},
   "source": [
    "# 17==>RandomForestClassifier"
   ]
  },
  {
   "cell_type": "code",
   "execution_count": null,
   "id": "bc8e591a",
   "metadata": {},
   "outputs": [],
   "source": [
    "from sklearn.ensemble import RandomForestClassifier\n",
    "rfc=RandomForestClassifier(n_estimators=100,random_state=42)"
   ]
  },
  {
   "cell_type": "markdown",
   "id": "df43016f",
   "metadata": {},
   "source": [
    "# 18==>SupportvectorMachine"
   ]
  },
  {
   "cell_type": "code",
   "execution_count": null,
   "id": "4b8b5037",
   "metadata": {},
   "outputs": [],
   "source": [
    "from sklearn import svm\n",
    "svc=svm.SVC(kernel=\"linear\")\n",
    "svc=svm.SVC(kernel=\"poly\",degree=3)\n",
    "svc=svm.SVC(kernel=\"rbf\")\n",
    "svc=svm.SVC(kernel=\"sigmoid\")\n",
    "\n",
    "\n"
   ]
  },
  {
   "cell_type": "markdown",
   "id": "5c4968a6",
   "metadata": {},
   "source": [
    "# 19==>Naive_bayes"
   ]
  },
  {
   "cell_type": "code",
   "execution_count": null,
   "id": "cef5cb02",
   "metadata": {},
   "outputs": [],
   "source": [
    "from sklearn.naive_bayes import GaussianNB,MultinomialNB,BernoulliNB\n",
    "gnb=GaussianNB()\n",
    "gnb=MultinomialNB()\n",
    "gnb=BernoulliNB()"
   ]
  },
  {
   "cell_type": "markdown",
   "id": "9700e378",
   "metadata": {},
   "source": [
    "# 20==>Confusion matrix"
   ]
  },
  {
   "cell_type": "code",
   "execution_count": null,
   "id": "5aa53876",
   "metadata": {},
   "outputs": [],
   "source": [
    "from sklearn.metrics import confusion_matrix\n",
    "cm=confusion_matrix(y_test,y_pred)"
   ]
  },
  {
   "cell_type": "markdown",
   "id": "7163196e",
   "metadata": {},
   "source": [
    "# 21==>Kmeans clustering"
   ]
  },
  {
   "cell_type": "code",
   "execution_count": null,
   "id": "5519ea55",
   "metadata": {},
   "outputs": [],
   "source": [
    "from sklearn.cluster import KMeans\n",
    "kmeans=KMneas(n_clusters=3)\n",
    "kmeans.fit(x)\n",
    "labels=kmeans.labels_\n",
    "centers=kmeans.cluster_centers_"
   ]
  },
  {
   "cell_type": "markdown",
   "id": "e6110ef0",
   "metadata": {},
   "source": [
    "# 22=>VotingRegressor"
   ]
  },
  {
   "cell_type": "code",
   "execution_count": null,
   "id": "09dd88d0",
   "metadata": {},
   "outputs": [],
   "source": [
    "from sklearn.ensemble import VotingRegressor\n",
    "d1 = DecisionTreeRegressor(random_state=42)\n",
    "r2 = RandomForestRegressor(random_state=42)\n",
    "l3 = LinearRegression()\n",
    "z = VotingRegressor(estimators=[('dt', d1), ('rf', r2), ('lr', l3)])\n",
    "\n"
   ]
  },
  {
   "cell_type": "markdown",
   "id": "12dae2cf",
   "metadata": {},
   "source": [
    "# 23==>BaggingClassifier"
   ]
  },
  {
   "cell_type": "code",
   "execution_count": null,
   "id": "3b3f5281",
   "metadata": {},
   "outputs": [],
   "source": [
    "from sklearn.ensemble import BaggingClassifier\n",
    "bc=BaggingClassifier(base_estimator=dt,n_estimators=10,random_state=42)\n"
   ]
  },
  {
   "cell_type": "markdown",
   "id": "b3b82a15",
   "metadata": {},
   "source": [
    "# 24==>AdaBoostClassifier"
   ]
  },
  {
   "cell_type": "code",
   "execution_count": null,
   "id": "40b78bc4",
   "metadata": {},
   "outputs": [],
   "source": [
    "from sklearn.ensemble import AdaBoostClassifier\n",
    "abc=AdaBoostClassifier(n_estimators=100,random_state=42)"
   ]
  },
  {
   "cell_type": "markdown",
   "id": "4ceac7ae",
   "metadata": {},
   "source": [
    "# 25==>GradientBoostingClassifier"
   ]
  },
  {
   "cell_type": "code",
   "execution_count": null,
   "id": "f4c3ba69",
   "metadata": {},
   "outputs": [],
   "source": [
    "from sklearn.ensemble import GradientBoostingClassifier\n",
    "gbc=GradientBoostingClassifier(n_estimators=100,random_state=42)"
   ]
  },
  {
   "cell_type": "markdown",
   "id": "f4ab82c9",
   "metadata": {},
   "source": [
    "# 26==>XGBClassifier"
   ]
  },
  {
   "cell_type": "code",
   "execution_count": null,
   "id": "dc758b9a",
   "metadata": {},
   "outputs": [],
   "source": [
    "from xgboost import XGBClassifier\n",
    "xgc=XGBClassifier(n_estimators=100,random_state=42)"
   ]
  },
  {
   "cell_type": "markdown",
   "id": "de747048",
   "metadata": {},
   "source": [
    "# 27==>LGBMClassifier"
   ]
  },
  {
   "cell_type": "code",
   "execution_count": null,
   "id": "a67ab19b",
   "metadata": {},
   "outputs": [],
   "source": [
    "# ! pip install lightgbm\n",
    "\n",
    "from lightgbm import LGBMClassifier\n",
    "lc=LGBMClassifier(n_estimators=100,random_state=42)"
   ]
  },
  {
   "cell_type": "markdown",
   "id": "264fc568",
   "metadata": {},
   "source": [
    "# 28==>CatBoostClassifier"
   ]
  },
  {
   "cell_type": "code",
   "execution_count": null,
   "id": "be3625f8",
   "metadata": {},
   "outputs": [],
   "source": [
    "# ! pip install catboost\n",
    "from catboost import CatBoostClassifier\n",
    "cbc=CatBoostClassifier(n_estimators=100,random_state=42,verbose=0)\n"
   ]
  },
  {
   "cell_type": "markdown",
   "id": "c5fd8002",
   "metadata": {},
   "source": [
    "# 29==>Stochastic"
   ]
  },
  {
   "cell_type": "code",
   "execution_count": null,
   "id": "e08d66d0",
   "metadata": {},
   "outputs": [],
   "source": [
    "from sklearn.ensemble import HistGradientBoostingClassifier\n",
    "hgbc=HistGradientBoostingClassifier(max_iter=100,random_state=42)"
   ]
  },
  {
   "cell_type": "markdown",
   "id": "7e15306d",
   "metadata": {},
   "source": [
    "# 30==>GradientBoostingRegressor"
   ]
  },
  {
   "cell_type": "code",
   "execution_count": null,
   "id": "7cff300b",
   "metadata": {},
   "outputs": [],
   "source": [
    "from sklearn.ensemble import GradientBoostingRegressor\n",
    "gbr=GradientBoostingRegressor(n_estimators=100,random_state=42)"
   ]
  },
  {
   "cell_type": "markdown",
   "id": "5d757ce0",
   "metadata": {},
   "source": [
    "# 31==>r2_score , mean_squared_error , mean_absolute_error "
   ]
  },
  {
   "cell_type": "code",
   "execution_count": null,
   "id": "3ea31e08",
   "metadata": {},
   "outputs": [],
   "source": [
    "from sklearn.metrics import r2_score , mean_squared_error , mean_absolute_error \n",
    "print(\"MAE :\" , mean_absolute_error(y_pred , y_test))\n",
    "print(\"MSE :\" , mean_squared_error(y_pred , y_test))\n",
    "print(\"r2_score :\" , r2_score(y_pred , y_test))\n",
    "print(\"RMSE :\" , np.sqrt(mean_squared_error(y_pred , y_test)))"
   ]
  },
  {
   "cell_type": "markdown",
   "id": "641e79ce",
   "metadata": {},
   "source": [
    "# 32==>KNeighborsClassifier(KNN)"
   ]
  },
  {
   "cell_type": "code",
   "execution_count": null,
   "id": "89768217",
   "metadata": {},
   "outputs": [],
   "source": [
    "from sklearn.neighbors import KNeighborsClassifier\n",
    "knn = KNeighborsClassifier(n_neighbors=3)"
   ]
  },
  {
   "cell_type": "markdown",
   "id": "f54ada6e",
   "metadata": {},
   "source": [
    "# 33=>StackingClassifier(ensemble)"
   ]
  },
  {
   "cell_type": "code",
   "execution_count": null,
   "id": "b09ecbff",
   "metadata": {},
   "outputs": [],
   "source": [
    "from sklearn.ensemble import StackingClassifier\n",
    "knn = KNeighborsClassifier(n_neighbors=3)\n",
    "rf = RandomForestClassifier(n_estimators=100, random_state=42)\n",
    "estimators = [('knn', knn), ('rf', rf)]\n",
    "stacking_model = StackingClassifier(estimators=estimators, final_estimator=LogisticRegression())\n"
   ]
  },
  {
   "cell_type": "code",
   "execution_count": null,
   "id": "9fb0658d",
   "metadata": {},
   "outputs": [],
   "source": [
    "34==>"
   ]
  },
  {
   "cell_type": "code",
   "execution_count": null,
   "id": "9ea59eda",
   "metadata": {},
   "outputs": [],
   "source": []
  }
 ],
 "metadata": {
  "kernelspec": {
   "display_name": "Python 3 (ipykernel)",
   "language": "python",
   "name": "python3"
  },
  "language_info": {
   "codemirror_mode": {
    "name": "ipython",
    "version": 3
   },
   "file_extension": ".py",
   "mimetype": "text/x-python",
   "name": "python",
   "nbconvert_exporter": "python",
   "pygments_lexer": "ipython3",
   "version": "3.10.9"
  }
 },
 "nbformat": 4,
 "nbformat_minor": 5
}
